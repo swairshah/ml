{
 "cells": [
  {
   "cell_type": "code",
   "execution_count": 2,
   "metadata": {
    "collapsed": true
   },
   "outputs": [],
   "source": [
    "import numpy as np\n",
    "import matplotlib.pyplot as plt\n",
    "from matplotlib import pylab\n",
    "from scipy import stats\n",
    "import pandas as pd\n",
    "from sklearn.linear_model import LinearRegression\n",
    "%matplotlib inline\n",
    "cOrange = \"#CF5F06\"\n",
    "cBlue = \"#76ADD7\""
   ]
  },
  {
   "cell_type": "code",
   "execution_count": 3,
   "metadata": {
    "collapsed": false
   },
   "outputs": [],
   "source": [
    "\"\"\"\n",
    "d = pd.read_csv('/tmp/xy', sep='\\t', header=None)\n",
    "d.columns = ['x','y']\n",
    "x = np.array(d['x']).reshape(d.shape[0],1)\n",
    "y = np.array(d['y']).reshape(d.shape[0],1)\n",
    "\n",
    "\n",
    "\"\"\""
   ]
  },
  {
   "cell_type": "code",
   "execution_count": 12,
   "metadata": {
    "collapsed": false
   },
   "outputs": [
    {
     "data": {
      "text/plain": [
       "LinearRegression(copy_X=True, fit_intercept=True, n_jobs=1, normalize=False)"
      ]
     },
     "execution_count": 12,
     "metadata": {},
     "output_type": "execute_result"
    }
   ],
   "source": [
    "m = 20\n",
    "f = lambda x : -10*x + 3 + 50*np.random.normal(0,1,1)\n",
    "x = np.random.normal(0, 10, m)\n",
    "y = np.array([f(i) for i in x])\n",
    "x = x.reshape((m,1))\n",
    "y = y.reshape((m,1))\n",
    "\n",
    "lm = LinearRegression()\n",
    "lm.fit(x,y)"
   ]
  },
  {
   "cell_type": "code",
   "execution_count": 13,
   "metadata": {
    "collapsed": false
   },
   "outputs": [
    {
     "name": "stdout",
     "output_type": "stream",
     "text": [
      "47.691021433 42.2275980671\n"
     ]
    }
   ],
   "source": [
    "mse = np.mean((lm.predict(x) - y)**2)**0.5\n",
    "l2_err = np.linalg.norm(lm.predict(x) - y)*100/np.linalg.norm(y)\n",
    "print mse,l2_err"
   ]
  },
  {
   "cell_type": "code",
   "execution_count": 17,
   "metadata": {
    "collapsed": false
   },
   "outputs": [
    {
     "data": {
      "image/png": "[encoded data removed]",
      "text/plain": [
       "<matplotlib.figure.Figure at 0x7f7f67d5d550>"
      ]
     },
     "metadata": {},
     "output_type": "display_data"
    }
   ],
   "source": [
    "plt.scatter(x, y, alpha = 0.5)\n",
    "plt.plot(x, lm.predict(x), color = \"orange\")\n",
    "plt.show()"
   ]
  },
  {
   "cell_type": "code",
   "execution_count": 34,
   "metadata": {
    "collapsed": true
   },
   "outputs": [],
   "source": [
    "def mse(pred_y, y):\n",
    "    return np.mean((pred_y - y)**2)**0.5\n",
    "\n",
    "def sampled_reg(x, y, r, sampling):\n",
    "    if sampling.lower() == 'importance':\n",
    "        idx = np.random.randint(len(x), size = r)\n",
    "    else:\n",
    "        idx = np.random.randint(len(x), size = r)\n",
    "    \n",
    "    x_ = x[idx]\n",
    "    y_ = y[idx]\n",
    "    lm = LinearRegression()\n",
    "    lm.fit(x_, y_)\n",
    "    mserr = mse(lm.predict(x), y)\n",
    "    return lm"
   ]
  },
  {
   "cell_type": "code",
   "execution_count": 107,
   "metadata": {
    "collapsed": false
   },
   "outputs": [
    {
     "name": "stdout",
     "output_type": "stream",
     "text": [
      "63.8284510873\n",
      "54.9690050955\n",
      "50.8146320263\n",
      "47.7888687671\n",
      "51.4592225187\n",
      "48.3879704824\n",
      "54.7891451304\n",
      "48.515875281\n",
      "64.0127425865\n",
      "56.6017725569\n"
     ]
    }
   ],
   "source": [
    "r = 5\n",
    "for i in range(10):\n",
    "    lm_ = sampled_reg(x, y, r, 'uniform')\n",
    "    print mse(lm_.predict(x), y)\n",
    "\n"
   ]
  },
  {
   "cell_type": "code",
   "execution_count": 95,
   "metadata": {
    "collapsed": false
   },
   "outputs": [
    {
     "name": "stdout",
     "output_type": "stream",
     "text": [
      "74.1161380722\n",
      "66.1691349572\n",
      "123.097135791\n",
      "68.0988214999\n",
      "77.6032600415\n",
      "60.8530524992\n",
      "62.230031051\n",
      "87.0271909078\n",
      "65.0751658707\n",
      "102.832384593\n"
     ]
    }
   ],
   "source": [
    "r = 5\n",
    "idx = np.random.randint(len(x), size = r)\n",
    "x_ = x[idx]\n",
    "y_ = y[idx]\n",
    "lm = LinearRegression()\n",
    "lm.fit(x_, y_)\n",
    "best_lm = lm\n",
    "best_mse = mse(best_lm.predict(x), y)\n",
    "for i in range(10):\n",
    "    e = mse(y, lm.predict(x))\n",
    "    #if (best_mse - e) < 10e-1:\n",
    "    #    continue\n",
    "    print e\n",
    "    best_lm = lm\n",
    "    best_mse = e\n",
    "    probs = (y - lm.predict(x))**2\n",
    "    probs = probs/sum(probs)\n",
    "    probs = probs.reshape(len(probs))\n",
    "    idx = np.random.choice(range(len(x)), size = r, p = probs)\n",
    "    x_ = x[idx]\n",
    "    y_ = y[idx]\n",
    "    lm = LinearRegression()\n",
    "    lm.fit(x_, y_)\n",
    "    #plt.scatter(x_, y_)\n"
   ]
  }
 ],
 "metadata": {
  "kernelspec": {
   "display_name": "Python 2",
   "language": "python2",
   "name": "python2"
  },
  "language_info": {
   "codemirror_mode": {
    "name": "ipython",
    "version": 2
   },
   "file_extension": ".py",
   "mimetype": "text/x-python",
   "name": "python",
   "nbconvert_exporter": "python",
   "pygments_lexer": "ipython2",
   "version": "2.7.13"
  }
 },
 "nbformat": 4,
 "nbformat_minor": 2
}
