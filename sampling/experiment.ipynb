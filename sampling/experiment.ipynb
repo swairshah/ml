{
 "cells": [
  {
   "cell_type": "code",
   "execution_count": 1,
   "metadata": {
    "collapsed": true
   },
   "outputs": [],
   "source": [
    "import numpy as np\n",
    "import matplotlib.pyplot as plt\n",
    "from matplotlib import pylab\n",
    "from scipy import stats\n",
    "from IPython import display\n",
    "import time\n",
    "from matplotlib.patches import Rectangle\n",
    "from sklearn.linear_model import LinearRegression\n",
    "%matplotlib inline"
   ]
  },
  {
   "cell_type": "code",
   "execution_count": 2,
   "metadata": {
    "collapsed": true
   },
   "outputs": [],
   "source": [
    "def regression(X, y):\n",
    "    pseudoinv = np.linalg.pinv(np.dot(X.T,X))\n",
    "    a = np.dot(np.dot(pseudoinv,X.T),y)\n",
    "    return a\n",
    "\n",
    "def generate_probabilities(X,y,a):\n",
    "    errors = np.zeros(len(X))\n",
    "    for idx,xi in enumerate(X):\n",
    "        errors[idx] = (y[idx]- np.dot(xi,a))**2\n",
    "    errors/sum(errors)\n",
    "\n",
    "def reg_plot(X, y, weights):\n",
    "    yw = y*weights\n",
    "    a = regression(X,yw)\n",
    "    line = a[1]*x + a[0] \n",
    "    plt.scatter(X[:,1],y,alpha=0.5)\n",
    "    plt.plot(x, line, color=\"orange\")"
   ]
  },
  {
   "cell_type": "code",
   "execution_count": 3,
   "metadata": {
    "collapsed": false
   },
   "outputs": [
    {
     "data": {
      "image/png": "[encoded data removed]",
      "text/plain": [
       "<matplotlib.figure.Figure at 0x7fcf53ee1310>"
      ]
     },
     "metadata": {},
     "output_type": "display_data"
    }
   ],
   "source": [
    "x = np.array([1,2,3,4])\n",
    "y = np.array([2,1,0,3])\n",
    "bias = np.ones(4)\n",
    "X = np.vstack((bias,x)).T\n",
    "\n",
    "w = np.array([1,1,1,1])\n",
    "\n",
    "reg_plot(X,y,w)"
   ]
  },
  {
   "cell_type": "code",
   "execution_count": 4,
   "metadata": {
    "collapsed": false
   },
   "outputs": [
    {
     "data": {
      "image/png": "[encoded data removed]",
      "text/plain": [
       "<matplotlib.figure.Figure at 0x7fcf21822c90>"
      ]
     },
     "metadata": {},
     "output_type": "display_data"
    }
   ],
   "source": [
    "reg_plot(X,y,np.array([0.5/3,0.5/3,0.5/3,0.5]))"
   ]
  }
 ],
 "metadata": {
  "kernelspec": {
   "display_name": "Python 2",
   "language": "python2",
   "name": "python2"
  },
  "language_info": {
   "codemirror_mode": {
    "name": "ipython",
    "version": 2
   },
   "file_extension": ".py",
   "mimetype": "text/x-python",
   "name": "python",
   "nbconvert_exporter": "python",
   "pygments_lexer": "ipython2",
   "version": "2.7.13"
  }
 },
 "nbformat": 4,
 "nbformat_minor": 2
}
